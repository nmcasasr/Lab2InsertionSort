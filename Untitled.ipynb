{
 "cells": [
  {
   "cell_type": "markdown",
   "metadata": {},
   "source": [
    "# Numero de instrucciones insertion sort"
   ]
  },
  {
   "cell_type": "code",
   "execution_count": 10,
   "metadata": {},
   "outputs": [
    {
     "name": "stdout",
     "output_type": "stream",
     "text": [
      "Numero promedio de pasos 62564\n"
     ]
    }
   ],
   "source": [
    "import random\n",
    "def randomPerm(n):\n",
    "    v=[]\n",
    "    for i in range(n):\n",
    "        v.append(i+1)\n",
    "    for i in range(len(v)-1):\n",
    "        j = random.randint(i, len(v)-1)\n",
    "        aux = v[i]\n",
    "        v[i] = v[j]\n",
    "        v[j] = aux\n",
    "    return v\n",
    "\n",
    "def isortSteps(a):\n",
    "    v = []\n",
    "    for i in range(len(a)):\n",
    "        v.append(a[i])\n",
    "        \n",
    "    steps = 0\n",
    "    for i in range(1,len(v)):\n",
    "        x = v[i]\n",
    "        j = i-1\n",
    "        while (j > -1) and (v[j] > x):\n",
    "            v[j+1] = v[j]\n",
    "            j = j -1\n",
    "            steps = steps + 3\n",
    "        steps = steps + 1\n",
    "        v[j+1] = x\n",
    "        steps = steps + 4\n",
    "    steps = steps + 1\n",
    "    return steps\n",
    "n = 4\n",
    "runs = 10000\n",
    "\n",
    "pasos = 0\n",
    "for i in range(runs):\n",
    "    t = isortSteps(randomPerm(n))\n",
    "    pasos = pasos + t\n",
    "print 'Numero promedio de pasos ' + str(pasos/4) "
   ]
  },
  {
   "cell_type": "markdown",
   "metadata": {},
   "source": [
    "# Numero de comparaciones Insertion sort "
   ]
  },
  {
   "cell_type": "code",
   "execution_count": 11,
   "metadata": {},
   "outputs": [
    {
     "name": "stdout",
     "output_type": "stream",
     "text": [
      "Numero promedio de comparaciones 37474\n"
     ]
    }
   ],
   "source": [
    "import random\n",
    "\n",
    "def randomPerm(n):\n",
    "    v=[]\n",
    "    for i in range(n):\n",
    "        v.append(i+1)\n",
    "    for i in range(len(v)-1):\n",
    "        j = random.randint(i, len(v)-1)\n",
    "        aux = v[i]\n",
    "        v[i] = v[j]\n",
    "        v[j] = aux\n",
    "    return v\n",
    "\n",
    "def isortSteps(a):\n",
    "    v = []\n",
    "    steps = 0\n",
    "    for i in range(len(a)):\n",
    "        v.append(a[i])\n",
    "        \n",
    "        steps = steps + 1\n",
    "    for i in range(1,len(v)):\n",
    "        steps = steps + 1\n",
    "        x = v[i]\n",
    "        j = i-1\n",
    "        while (j > -1) and (v[j] > x):\n",
    "            steps = steps + 1\n",
    "            v[j+1] = v[j]\n",
    "            j = j -1\n",
    "            \n",
    "        steps = steps + 1\n",
    "        v[j+1] = x\n",
    "        \n",
    "    steps = steps + 1\n",
    "    steps = steps + 1\n",
    "    return steps\n",
    "n = 4\n",
    "runs = 10000\n",
    "\n",
    "pasos = 0\n",
    "for i in range(runs):\n",
    "    t = isortSteps(randomPerm(n))\n",
    "    pasos = pasos + t\n",
    "print 'Numero promedio de comparaciones ' + str(pasos/4) "
   ]
  },
  {
   "cell_type": "markdown",
   "metadata": {},
   "source": [
    "# Numero de intercambios InsertionSort"
   ]
   },
  {
   "cell_type": "markdown",
   "metadata": {},
   "source": [
    "# Numero de intercambios InsertionSort"
   ]
  },
  {
   "cell_type": "code",
   "execution_count": 12,
   "metadata": {},
   "outputs": [
    {
     "name": "stdout",
     "output_type": "stream",
     "text": [
      "Numero promedio de intercambios 7482\n"
     ]
    }
   ],
   "source": [
    "import random\n",
    "\n",
    "def randomPerm(n):\n",
    "    v=[]\n",
    "    for i in range(n):\n",
    "        v.append(i+1)\n",
    "    for i in range(len(v)-1):\n",
    "        j = random.randint(i, len(v)-1)\n",
    "        aux = v[i]\n",
    "        v[i] = v[j]\n",
    "        v[j] = aux\n",
    "    return v\n",
    "\n",
    "def isortSteps(a):\n",
    "    v = []\n",
    "    steps = 0\n",
    "    for i in range(len(a)):\n",
    "        v.append(a[i])\n",
    "        \n",
    "        \n",
    "    for i in range(1,len(v)):\n",
    "        \n",
    "        x = v[i]\n",
    "        j = i-1\n",
    "        while (j > -1) and (v[j] > x):\n",
    "            \n",
    "            v[j+1] = v[j]\n",
    "            steps = steps + 1\n",
    "            j = j -1\n",
    "            \n",
    "        \n",
    "        v[j+1] = x\n",
    "    \n",
    "    return steps\n",
    "n = 4\n",
    "runs = 10000\n",
    "\n",
    "pasos = 0\n",
    "for i in range(runs):\n",
    "    t = isortSteps(randomPerm(n))\n",
    "    pasos = pasos + t\n",
    "print 'Numero promedio de intercambios ' + str(pasos/4) "
   ]
  },
  {
   "cell_type": "code",
   "execution_count": 13,
   "metadata": {},
   "outputs": [
    {
     "name": "stdout",
     "output_type": "stream",
     "text": [
      "Numero promedio de preguntas en el while 15011\n"
     ]
    }
   ],
   "source": [
    "import random\n",
    "\n",
    "def randomPerm(n):\n",
    "    v=[]\n",
    "    for i in range(n):\n",
    "        v.append(i+1)\n",
    "    for i in range(len(v)-1):\n",
    "        j = random.randint(i, len(v)-1)\n",
    "        aux = v[i]\n",
    "        v[i] = v[j]\n",
    "        v[j] = aux\n",
    "    return v\n",
    "\n",
    "def isortSteps(a):\n",
    "    v = []\n",
    "    steps = 0\n",
    "    for i in range(len(a)):\n",
    "        v.append(a[i])\n",
    "        \n",
    "        \n",
    "    for i in range(1,len(v)):\n",
    "        \n",
    "        x = v[i]\n",
    "        j = i-1\n",
    "        while (j > -1) and (v[j] > x):\n",
    "            \n",
    "            v[j+1] = v[j]\n",
    "            steps = steps + 1\n",
    "            j = j -1\n",
    "            \n",
    "        \n",
    "        v[j+1] = x\n",
    "        steps = steps + 1\n",
    "    return steps\n",
    "n = 4\n",
    "runs = 10000\n",
    "\n",
    "pasos = 0\n",
    "for i in range(runs):\n",
    "    t = isortSteps(randomPerm(n))\n",
    "    pasos = pasos + t\n",
    "print 'Numero promedio de preguntas en el while ' + str(pasos/4) "
   ]
  },
  {
   "cell_type": "code",
   "execution_count": null,
   "metadata": {},
   "outputs": [],
   "source": []
  }
 ],
 "metadata": {
  "kernelspec": {
   "display_name": "Python 2",
   "language": "python",
   "name": "python2"
  },
  "language_info": {
   "codemirror_mode": {
    "name": "ipython",
    "version": 2
   },
   "file_extension": ".py",
   "mimetype": "text/x-python",
   "name": "python",
   "nbconvert_exporter": "python",
   "pygments_lexer": "ipython2",
   "version": "2.7.15"
  }
 },
 "nbformat": 4,
 "nbformat_minor": 2
}
